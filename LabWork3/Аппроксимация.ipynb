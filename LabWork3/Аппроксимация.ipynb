{
 "cells": [
  {
   "cell_type": "code",
   "execution_count": 1,
   "metadata": {},
   "outputs": [],
   "source": [
    "import pandas as pd\n",
    "import matplotlib.pyplot as plt\n",
    "import numpy as np\n",
    "from sklearn.linear_model import LinearRegression\n",
    "from sklearn.preprocessing import PolynomialFeatures\n",
    "\n",
    "def readDF(path = 'Task_data_EURUSD.csv', nRows = None):\n",
    "    df = pd.read_csv(path, delimiter = ';')\n",
    "    return df.iloc[0:nRows]\n",
    "\n",
    "def write(df, name = 'Data_before_interpolution'):\n",
    "    txt = open(name + '.txt', 'w')\n",
    "    txt.write(df.to_string())    \n",
    "        \n",
    "def setForInterp(a = -5, b = 5, chebyshev = False, n = 10):\n",
    "    f = lambda x: -np.sinc(1.5 * x)\n",
    "    \n",
    "    if chebyshev == True:\n",
    "        x = [((a + b) / 2) + ((b - a) * np.cos((2 * i - 1) * np.pi / (2 * n)) / 2) \\\n",
    "            for i in range (1, n + 1)]\n",
    "        y = np.zeros(len(x))\n",
    "        for i in range(len(x)):\n",
    "            y[i] = f(x[i])\n",
    "    else:\n",
    "        x = np.linspace(a, b, n)\n",
    "        y = np.array(f(x))\n",
    "    \n",
    "    df = pd.DataFrame({'x': x,\\\n",
    "                       'y': y})\n",
    "    return df\n",
    "\n",
    "def polynominalSet(set = setForInterp(n = 10), n = 20):\n",
    "    # Возвращет набор данных, интерполированных полиномом Лагранжа.\n",
    "    x = set['x']\n",
    "    y = set['y']\n",
    "    a = min(x)\n",
    "    b = max(x)\n",
    "    t = np.linspace(a, b, n)\n",
    "    \n",
    "    def lagrangianPol(x, y, t):\n",
    "        # Интерполяционный полином Лагранжа.\n",
    "        p = 0\n",
    "        for i in range(len(x)):\n",
    "            li = 1\n",
    "            for j in range(len(x)):\n",
    "                if j != i:\n",
    "                    li *= (t - x[j]) / (x[i] - x[j])\n",
    "            p += y[i] * li \n",
    "        return p\n",
    "    \n",
    "    df = pd.DataFrame({'x': t,\n",
    "                       'y': lagrangianPol(x, y, t)})\n",
    "    return df\n",
    "        \n",
    "def draw(*df, drawtype = 'data', col1 = 'x', col2 = 'y', color = None, linestyle = None, layers = []):\n",
    "    fig = plt.figure(figsize = (10, 5))\n",
    "    plot = fig.add_subplot()\n",
    "    \n",
    "    if drawtype == 'data':\n",
    "        plot.set_xlabel(col1, fontsize = 14)\n",
    "        plot.set_ylabel(col2, fontsize = 14)\n",
    "        for i in range(len(df)):\n",
    "            plot.scatter(df[i][col1], df[i][col2], marker = 'x', color = 'r')\n",
    "    \n",
    "    elif drawtype == 'ExchangeRates':\n",
    "        col1 = None\n",
    "        for i in range(len(df)):\n",
    "            plot.plot(df[i][col2], label = col2)\n",
    "\n",
    "    elif drawtype == 'regr':\n",
    "        for i in range(len(df)):\n",
    "            for col2 in layers:\n",
    "                plot.plot(df[i][col1], df[i][col2], color = color, linestyle = linestyle, label = col2)\n",
    "        plot.set_ylim(1.15, 1.23)\n",
    "        plot.legend(fontsize = 14)\n",
    "        \n",
    "    elif drawtype == 'dataframes':\n",
    "        for i in range(len(df)):\n",
    "            if i != 0:\n",
    "                plot.scatter(df[i][col1], df[i][col2], marker = 'o', color = color[i])\n",
    "            else:\n",
    "                plot.plot(df[i][col1], df[i][col2], linestyle = '--', marker = 'x', color = color[i])\n",
    "        plot.set_ylim(-1.6, 1.4)\n",
    "        \n",
    "    return plot\n",
    "\n",
    "def regr(df):\n",
    "    x = np.array([i for i in range (1, 15)]).reshape(-1, 1)\n",
    "    y = np.array(df['<CLOSE>'][:14])\n",
    "    \n",
    "    model = LinearRegression()\n",
    "    \n",
    "    quad_reg = PolynomialFeatures(degree = 2)\n",
    "    three_reg = PolynomialFeatures(degree = 3)\n",
    "    \n",
    "    x_quad = quad_reg.fit_transform(x)\n",
    "    x_three = three_reg.fit_transform(x)\n",
    "    x_new = np.append(x, np.array([i for i in range(len(x)+1, len(x)+11)])).reshape(-1,1)\n",
    "    #\n",
    "    model = model.fit(x, y)\n",
    "    lineR2 = model.score(x, y)\n",
    "    y_line_new = model.predict(x_new)\n",
    "    #\n",
    "    model = model.fit(x_quad, y)\n",
    "    quadR2 = model.score(x_quad, y)\n",
    "    x_quad_new = quad_reg.fit_transform(x_new)\n",
    "    y_quad_new = model.predict(x_quad_new)\n",
    "    #\n",
    "    model = model.fit(x_three, y)\n",
    "    threeR2 = model.score(x_three, y)\n",
    "    x_three_new = three_reg.fit_transform(x_new)\n",
    "    y_three_new = model.predict(x_three_new)\n",
    "    \n",
    "    dfnew = pd.DataFrame({'days': (int(x_new[i]) for i in range(len(x_new))), \\\n",
    "                          'linear': (y_line_new[i] for i in range(len(y_line_new))), \\\n",
    "                          'quad': (y_quad_new[i] for i in range(len(y_line_new))), \\\n",
    "                          'three': (y_three_new[i] for i in range(len(y_line_new))),\n",
    "                          'linearErr': lineR2, 'quadErr': quadR2, 'threeErr': threeR2})\n",
    "    df = pd.concat([df, dfnew], axis = 1)\n",
    "    return df"
   ]
  },
  {
   "cell_type": "markdown",
   "metadata": {},
   "source": [
    "# Task 1\n",
    "## the exercise 1.1"
   ]
  },
  {
   "cell_type": "code",
   "execution_count": 2,
   "metadata": {},
   "outputs": [
    {
     "data": {
      "text/html": [
       "<div>\n",
       "<style scoped>\n",
       "    .dataframe tbody tr th:only-of-type {\n",
       "        vertical-align: middle;\n",
       "    }\n",
       "\n",
       "    .dataframe tbody tr th {\n",
       "        vertical-align: top;\n",
       "    }\n",
       "\n",
       "    .dataframe thead th {\n",
       "        text-align: right;\n",
       "    }\n",
       "</style>\n",
       "<table border=\"1\" class=\"dataframe\">\n",
       "  <thead>\n",
       "    <tr style=\"text-align: right;\">\n",
       "      <th></th>\n",
       "      <th>x</th>\n",
       "      <th>y</th>\n",
       "    </tr>\n",
       "  </thead>\n",
       "  <tbody>\n",
       "    <tr>\n",
       "      <th>0</th>\n",
       "      <td>-4.938442</td>\n",
       "      <td>0.041175</td>\n",
       "    </tr>\n",
       "    <tr>\n",
       "      <th>1</th>\n",
       "      <td>-3.841010</td>\n",
       "      <td>0.018846</td>\n",
       "    </tr>\n",
       "    <tr>\n",
       "      <th>2</th>\n",
       "      <td>-2.743579</td>\n",
       "      <td>0.083114</td>\n",
       "    </tr>\n",
       "    <tr>\n",
       "      <th>3</th>\n",
       "      <td>-1.646147</td>\n",
       "      <td>0.104597</td>\n",
       "    </tr>\n",
       "    <tr>\n",
       "      <th>4</th>\n",
       "      <td>-0.548716</td>\n",
       "      <td>0.148680</td>\n",
       "    </tr>\n",
       "    <tr>\n",
       "      <th>5</th>\n",
       "      <td>0.548716</td>\n",
       "      <td>0.148680</td>\n",
       "    </tr>\n",
       "    <tr>\n",
       "      <th>6</th>\n",
       "      <td>1.646147</td>\n",
       "      <td>0.104597</td>\n",
       "    </tr>\n",
       "    <tr>\n",
       "      <th>7</th>\n",
       "      <td>2.743579</td>\n",
       "      <td>0.083114</td>\n",
       "    </tr>\n",
       "    <tr>\n",
       "      <th>8</th>\n",
       "      <td>3.841010</td>\n",
       "      <td>0.018846</td>\n",
       "    </tr>\n",
       "    <tr>\n",
       "      <th>9</th>\n",
       "      <td>4.938442</td>\n",
       "      <td>0.041175</td>\n",
       "    </tr>\n",
       "  </tbody>\n",
       "</table>\n",
       "</div>"
      ],
      "text/plain": [
       "          x         y\n",
       "0 -4.938442  0.041175\n",
       "1 -3.841010  0.018846\n",
       "2 -2.743579  0.083114\n",
       "3 -1.646147  0.104597\n",
       "4 -0.548716  0.148680\n",
       "5  0.548716  0.148680\n",
       "6  1.646147  0.104597\n",
       "7  2.743579  0.083114\n",
       "8  3.841010  0.018846\n",
       "9  4.938442  0.041175"
      ]
     },
     "execution_count": 2,
     "metadata": {},
     "output_type": "execute_result"
    }
   ],
   "source": [
    "polynominalSet(setForInterp(a = -5, b = 5, chebyshev = True, n = 10), n = 10)"
   ]
  },
  {
   "cell_type": "code",
   "execution_count": 3,
   "metadata": {},
   "outputs": [
    {
     "data": {
      "image/png": "[encoded data removed]",
      "text/plain": [
       "<Figure size 720x360 with 1 Axes>"
      ]
     },
     "metadata": {
      "needs_background": "light"
     },
     "output_type": "display_data"
    }
   ],
   "source": [
    "draw(setForInterp(n = 10))\n",
    "write(setForInterp(n = 10))"
   ]
  },
  {
   "cell_type": "code",
   "execution_count": 4,
   "metadata": {},
   "outputs": [
    {
     "data": {
      "text/plain": [
       "<AxesSubplot:>"
      ]
     },
     "execution_count": 4,
     "metadata": {},
     "output_type": "execute_result"
    },
    {
     "data": {
      "image/png": "[encoded data removed]",
      "text/plain": [
       "<Figure size 720x360 with 1 Axes>"
      ]
     },
     "metadata": {
      "needs_background": "light"
     },
     "output_type": "display_data"
    }
   ],
   "source": [
    "draw(setForInterp(n = 15), polynominalSet(setForInterp(n = 15), n = 40), drawtype = 'dataframes', \\\n",
    "     col1 = 'x', col2 = 'y', color = ['y','b'], linestyle = None, layers = [])"
   ]
  },
  {
   "cell_type": "code",
   "execution_count": 5,
   "metadata": {},
   "outputs": [
    {
     "data": {
      "text/plain": [
       "<AxesSubplot:>"
      ]
     },
     "execution_count": 5,
     "metadata": {},
     "output_type": "execute_result"
    },
    {
     "data": {
      "image/png": "[encoded data removed]",
      "text/plain": [
       "<Figure size 720x360 with 1 Axes>"
      ]
     },
     "metadata": {
      "needs_background": "light"
     },
     "output_type": "display_data"
    }
   ],
   "source": [
    "draw(setForInterp(chebyshev = True, n = 11), polynominalSet(setForInterp(chebyshev = True, n = 11), n = 40),\\\n",
    "     drawtype = 'dataframes', col1 = 'x', col2 = 'y', color = ['y','b'], linestyle = None, layers = [])"
   ]
  }
 ],
 "metadata": {
  "kernelspec": {
   "display_name": "Python 3 (ipykernel)",
   "language": "python",
   "name": "python3"
  },
  "language_info": {
   "codemirror_mode": {
    "name": "ipython",
    "version": 3
   },
   "file_extension": ".py",
   "mimetype": "text/x-python",
   "name": "python",
   "nbconvert_exporter": "python",
   "pygments_lexer": "ipython3",
   "version": "3.9.12"
  },
  "vscode": {
   "interpreter": {
    "hash": "21cf86d11e40685bdf02511d449aa0705537871041748e4d95aac0bec6ac973f"
   }
  }
 },
 "nbformat": 4,
 "nbformat_minor": 4
}
